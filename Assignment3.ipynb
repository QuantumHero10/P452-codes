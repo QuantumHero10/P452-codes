{
 "cells": [
  {
   "cell_type": "markdown",
   "metadata": {},
   "source": [
    "<span style=\"font-size: 30px;\">Assignment-3</span>  \n",
    "<span style=\"font-size: 25px;\">Pabitra Ranjan Giri</span>  \n",
    "<span style=\"font-size: 25px;\">Roll-2011103</span>\n"
   ]
  },
  {
   "cell_type": "markdown",
   "metadata": {},
   "source": [
    "<span style=\"font-size: 25px;\">Question-1</span>"
   ]
  },
  {
   "cell_type": "code",
   "execution_count": 4,
   "metadata": {},
   "outputs": [
    {
     "name": "stdout",
     "output_type": "stream",
     "text": [
      "\n",
      " Input matrix:\n",
      "\n",
      "[[ 4.          0.66666667 -1.33333333  1.33333333]\n",
      " [ 0.66666667  4.          0.          0.        ]\n",
      " [-1.33333333  0.          6.          2.        ]\n",
      " [ 1.33333333  0.          2.          6.        ]]\n",
      "\n",
      "No. of iterations : 25\n",
      "\n",
      "The dominant eigenvalue using Power method is : 7.999999105072344\n",
      "\n",
      "\n",
      "\n",
      "The eigenvalues of the given matrix using QR factorisation method(Gram Schmidt orthogonalisation) are:\n",
      "\n",
      "Eigenvalue 1 : 5.999999999999998\n",
      "Eigenvalue 2 : 3.999999999999546\n",
      "Eigenvalue 3 : 8.000000000000002\n",
      "Eigenvalue 4 : 2.000000000000458\n"
     ]
    }
   ],
   "source": [
    "import mylibrary.pow as pow # Library function for finding dominant eigenvalue using Power method\n",
    "import mylibrary.qrf as qrf # Library function for finding all eigenvalues using QR factorisation method(Gram Schmidt orthogonalisation)\n",
    "import numpy as np\n",
    "\n",
    "A=[[4,2/3,-4/3,4/3],\n",
    "   [2/3,4,0,0],\n",
    "   [-4/3,0,6,2],\n",
    "   [4/3,0,2,6]]\n",
    "\n",
    "print(\"\\n Input matrix:\\n\")\n",
    "print(np.matrix(A))\n",
    "pow.main(A)\n",
    "print(\"\\n\")\n",
    "qrf.main(A)\n",
    "\n"
   ]
  },
  {
   "cell_type": "markdown",
   "metadata": {},
   "source": [
    "<span style=\"font-size: 25px;\">Question-2</span>"
   ]
  },
  {
   "cell_type": "code",
   "execution_count": 5,
   "metadata": {},
   "outputs": [
    {
     "name": "stdout",
     "output_type": "stream",
     "text": [
      "Coefficients for cubic polynomial basis: [0.5746586674194698, 4.725861442143744, -11.128217777647734, 7.668677622912348]\n",
      "Coefficients for modified Chebyshev basis: [1.1609694790335525, 0.39351446798815237, 0.0468498320901067, 0.23964617571596986]\n",
      "Condition number for cubic polynomial basis: 110.02249165981262\n",
      "Condition number for modified Chebyshev basis: 1.963707355645332\n"
     ]
    }
   ],
   "source": [
    "import numpy as np\n",
    "import mylibrary.cnd as cnd # Library file for least square fitting and condition number\n",
    "# Load the data from the file\n",
    "with open('assign3fit.txt', 'r') as file:\n",
    "    data = file.readlines()\n",
    "\n",
    "x_data = []\n",
    "y_data = []\n",
    "\n",
    "for line in data:\n",
    "    x, y = map(float, line.split())\n",
    "    x_data.append(x)\n",
    "    y_data.append(y)\n",
    "\n",
    "# Number of data points\n",
    "n = len(x_data)\n",
    "\n",
    "# Define the basis functions for cubic polynomial and modified Chebyshev basis\n",
    "def cubic_basis(x):\n",
    "    return [[1, x_i, x_i**2, x_i**3] for x_i in x]\n",
    "\n",
    "def modified_chebyshev_basis(x):\n",
    "    phi0 = [1] * n\n",
    "    phi1 = [2 * x_i - 1 for x_i in x]\n",
    "    phi2 = [8 * x_i**2 - 8 * x_i + 1 for x_i in x]\n",
    "    phi3 = [32 * x_i**3 - 48 * x_i**2 + 18 * x_i - 1 for x_i in x]\n",
    "    return [[phi0[i], phi1[i], phi2[i], phi3[i]] for i in range(n)]\n",
    "\n",
    "# Compute the design matrices\n",
    "X_cubic = cubic_basis(x_data)\n",
    "X_chebyshev = modified_chebyshev_basis(x_data)\n",
    "\n",
    "\n",
    "# Solve for coefficients for both bases\n",
    "coeff_cubic = cnd.main(X_cubic,y_data)\n",
    "coeff_chebyshev = cnd.main(X_chebyshev, y_data)\n",
    "\n",
    "print(\"Coefficients for cubic polynomial basis:\", coeff_cubic)\n",
    "print(\"Coefficients for modified Chebyshev basis:\", coeff_chebyshev)\n",
    "\n",
    "# Compute the condition numbers of the design matrices\n",
    "condition_number_cubic = np.linalg.cond(X_cubic)\n",
    "condition_number_chebyshev = np.linalg.cond(X_chebyshev)\n",
    "\n",
    "print(\"Condition number for cubic polynomial basis:\", condition_number_cubic)\n",
    "print(\"Condition number for modified Chebyshev basis:\", condition_number_chebyshev)\n"
   ]
  },
  {
   "cell_type": "markdown",
   "metadata": {},
   "source": [
    "The **condition number** indicates the stability of a algorithm.  \n",
    "The higher the codition number the more susceptible the algorithm is to small changes in input.  \n",
    "In this case the condition number of Cubic basis is higher than Chebyshev basis,  \n",
    "which indicates that Chebyshev basis is more stable and is less prone to numerical instability."
   ]
  },
  {
   "cell_type": "markdown",
   "metadata": {},
   "source": [
    "<span style=\"font-size: 25px;\">Question-3</span>"
   ]
  },
  {
   "cell_type": "code",
   "execution_count": 3,
   "metadata": {},
   "outputs": [
    {
     "name": "stdout",
     "output_type": "stream",
     "text": [
      "Chi^2: 26.251851851851853\n",
      "At 5.0% level of significance, reject the null hypothesis: distribution is not normal.\n",
      "At 10.0% level of significance, reject the null hypothesis: distribution is not normal.\n"
     ]
    }
   ],
   "source": [
    "# Observed frequencies\n",
    "observed = {'A': 77, \n",
    "            'B': 150, \n",
    "            'C': 210, \n",
    "            'D': 125, \n",
    "            'F': 38}\n",
    "\n",
    "# Total number of observations\n",
    "total_obs = sum(observed.values())\n",
    "\n",
    "# Expected frequencies assuming standard normal distribution\n",
    "expected = {'A': total_obs * 0.075, \n",
    "            'B': total_obs * 0.225, \n",
    "            'C': total_obs * 0.35, \n",
    "            'D': total_obs * 0.225, \n",
    "            'F': total_obs * 0.075}\n",
    "\n",
    "# Calculate the chi-square statistic\n",
    "chi_square = sum((observed[grade] - expected[grade])**2 / expected[grade] for grade in observed)\n",
    "print(\"Chi^2:\",chi_square)\n",
    "\n",
    "# Degrees of freedom\n",
    "degrees_of_freedom = len(observed) - 1\n",
    "\n",
    "# Critical values for 5% and 10% level of significance for degrees of freedom\n",
    "critical_values = {0.05: 9.488, \n",
    "                   0.10: 7.779}\n",
    "\n",
    "# Determine if the distribution is normal at 5% and 10% level of significance\n",
    "\n",
    "for significance, critical_value in critical_values.items():\n",
    "    if chi_square > critical_value:\n",
    "        print(f\"At {significance * 100}% level of significance, reject the null hypothesis: distribution is not normal.\")\n",
    "    else:\n",
    "        print(f\"At {significance * 100}% level of significance, fail to reject the null hypothesis: distribution is normal.\")"
   ]
  },
  {
   "cell_type": "markdown",
   "metadata": {},
   "source": [
    "<span style=\"font-size: 25px;\">Question-4</span>"
   ]
  },
  {
   "cell_type": "code",
   "execution_count": 5,
   "metadata": {},
   "outputs": [
    {
     "name": "stdout",
     "output_type": "stream",
     "text": [
      "F-value: 1.8106334841629024\n",
      "Critical F-Value: 3.99993538\n",
      "Fail to reject the null hypothesis using F-test: Variances are not significantly different\n",
      "\n",
      "T-value: -0.6348586013677854\n",
      "Critical T-Value: 2.1009\n",
      "Fail to reject the null hypothesis using t-test: Means are not significantly different\n",
      "\n",
      "The critical F-value and t-values are for 95% confidence level.\n"
     ]
    }
   ],
   "source": [
    "import numpy as np\n",
    "import mylibrary.ftt as F_t_test # Library file for F-test and t-test\n",
    "# Focal lengths for shipment A and B\n",
    "A = [4.65, 4.84, 4.59, 4.75, 4.63, 4.75, 4.58, 4.82, 4.86, 4.60, 4.77, 4.65, 4.80]  # Shipment A\n",
    "B = [4.75, 4.79, 4.74, 4.74, 4.77, 4.58, 4.81] # Shipment B\n",
    "\n",
    "F_value,t_value = F_t_test.main(A,B) # Calculating F_value and t_value \n",
    "dof = len(A) + len(B) - 2\n",
    "critical_F_value = 3.99993538  # From critical value table\n",
    "critical_t_value = 2.1009  # From critical value table\n",
    "# Print results\n",
    "print(\"F-value:\", F_value)\n",
    "print(\"Critical F-Value:\", critical_F_value)\n",
    "if F_value > critical_F_value:\n",
    "    print(\"Reject the null hypothesis using F-test: Variances are significantly different\")\n",
    "else:\n",
    "    print(\"Fail to reject the null hypothesis using F-test: Variances are not significantly different\")\n",
    "\n",
    "print(\"\\nT-value:\", t_value)\n",
    "print(\"Critical T-Value:\", critical_t_value)\n",
    "if abs(t_value) > critical_t_value:\n",
    "    print(\"Reject the null hypothesis using t-test: Means are significantly different\")\n",
    "else:\n",
    "    print(\"Fail to reject the null hypothesis using t-test: Means are not significantly different\")\n",
    "\n",
    "print(\"\\nThe critical F-value and t-values are for 95% confidence level.\")"
   ]
  },
  {
   "cell_type": "markdown",
   "metadata": {},
   "source": [
    "From F-test and t-test we get that the mean and variance of the two samples are not significantly different,  \n",
    "So both the shipments are from the same population."
   ]
  }
 ],
 "metadata": {
  "kernelspec": {
   "display_name": "Python 3",
   "language": "python",
   "name": "python3"
  },
  "language_info": {
   "codemirror_mode": {
    "name": "ipython",
    "version": 3
   },
   "file_extension": ".py",
   "mimetype": "text/x-python",
   "name": "python",
   "nbconvert_exporter": "python",
   "pygments_lexer": "ipython3",
   "version": "3.12.2"
  }
 },
 "nbformat": 4,
 "nbformat_minor": 2
}
